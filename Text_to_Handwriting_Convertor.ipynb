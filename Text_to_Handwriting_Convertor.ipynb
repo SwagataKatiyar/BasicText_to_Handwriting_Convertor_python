{
 "cells": [
  {
   "cell_type": "code",
   "execution_count": 1,
   "id": "41583500",
   "metadata": {},
   "outputs": [
    {
     "name": "stdout",
     "output_type": "stream",
     "text": [
      "Defaulting to user installation because normal site-packages is not writeable\n",
      "Requirement already satisfied: pywhatkit in c:\\users\\tarun katihar\\appdata\\roaming\\python\\python39\\site-packages (5.4)\n",
      "Requirement already satisfied: pyautogui in c:\\users\\tarun katihar\\appdata\\roaming\\python\\python39\\site-packages (from pywhatkit) (0.9.53)\n",
      "Requirement already satisfied: Pillow in c:\\users\\tarun katihar\\appdata\\roaming\\python\\python39\\site-packages (from pywhatkit) (9.1.0)\n",
      "Requirement already satisfied: requests in c:\\users\\tarun katihar\\appdata\\roaming\\python\\python39\\site-packages (from pywhatkit) (2.27.1)\n",
      "Requirement already satisfied: Flask in c:\\users\\tarun katihar\\appdata\\roaming\\python\\python39\\site-packages (from pywhatkit) (2.1.2)\n",
      "Requirement already satisfied: wikipedia in c:\\users\\tarun katihar\\appdata\\roaming\\python\\python39\\site-packages (from pywhatkit) (1.4.0)\n",
      "Requirement already satisfied: itsdangerous>=2.0 in c:\\users\\tarun katihar\\appdata\\roaming\\python\\python39\\site-packages (from Flask->pywhatkit) (2.1.2)\n",
      "Requirement already satisfied: importlib-metadata>=3.6.0 in c:\\users\\tarun katihar\\appdata\\roaming\\python\\python39\\site-packages (from Flask->pywhatkit) (4.11.3)\n",
      "Requirement already satisfied: Werkzeug>=2.0 in c:\\users\\tarun katihar\\appdata\\roaming\\python\\python39\\site-packages (from Flask->pywhatkit) (2.1.2)\n",
      "Requirement already satisfied: Jinja2>=3.0 in c:\\users\\tarun katihar\\appdata\\roaming\\python\\python39\\site-packages (from Flask->pywhatkit) (3.1.2)\n",
      "Requirement already satisfied: click>=8.0 in c:\\users\\tarun katihar\\appdata\\roaming\\python\\python39\\site-packages (from Flask->pywhatkit) (8.1.3)\n",
      "Requirement already satisfied: mouseinfo in c:\\users\\tarun katihar\\appdata\\roaming\\python\\python39\\site-packages (from pyautogui->pywhatkit) (0.1.3)\n",
      "Requirement already satisfied: pygetwindow>=0.0.5 in c:\\users\\tarun katihar\\appdata\\roaming\\python\\python39\\site-packages (from pyautogui->pywhatkit) (0.0.9)\n",
      "Requirement already satisfied: pyscreeze>=0.1.21 in c:\\users\\tarun katihar\\appdata\\roaming\\python\\python39\\site-packages (from pyautogui->pywhatkit) (0.1.28)\n",
      "Requirement already satisfied: pymsgbox in c:\\users\\tarun katihar\\appdata\\roaming\\python\\python39\\site-packages (from pyautogui->pywhatkit) (1.0.9)\n",
      "Requirement already satisfied: PyTweening>=1.0.1 in c:\\users\\tarun katihar\\appdata\\roaming\\python\\python39\\site-packages (from pyautogui->pywhatkit) (1.0.4)\n",
      "Requirement already satisfied: idna<4,>=2.5 in c:\\users\\tarun katihar\\appdata\\roaming\\python\\python39\\site-packages (from requests->pywhatkit) (3.3)\n",
      "Requirement already satisfied: charset-normalizer~=2.0.0 in c:\\users\\tarun katihar\\appdata\\roaming\\python\\python39\\site-packages (from requests->pywhatkit) (2.0.12)\n",
      "Requirement already satisfied: certifi>=2017.4.17 in c:\\users\\tarun katihar\\appdata\\roaming\\python\\python39\\site-packages (from requests->pywhatkit) (2021.10.8)\n",
      "Requirement already satisfied: urllib3<1.27,>=1.21.1 in c:\\users\\tarun katihar\\appdata\\roaming\\python\\python39\\site-packages (from requests->pywhatkit) (1.26.9)\n",
      "Requirement already satisfied: beautifulsoup4 in c:\\users\\tarun katihar\\appdata\\roaming\\python\\python39\\site-packages (from wikipedia->pywhatkit) (4.11.1)\n",
      "Requirement already satisfied: colorama in c:\\users\\tarun katihar\\appdata\\roaming\\python\\python39\\site-packages (from click>=8.0->Flask->pywhatkit) (0.4.4)\n",
      "Requirement already satisfied: zipp>=0.5 in c:\\users\\tarun katihar\\appdata\\roaming\\python\\python39\\site-packages (from importlib-metadata>=3.6.0->Flask->pywhatkit) (3.8.0)\n",
      "Requirement already satisfied: MarkupSafe>=2.0 in c:\\users\\tarun katihar\\appdata\\roaming\\python\\python39\\site-packages (from Jinja2>=3.0->Flask->pywhatkit) (2.1.1)\n",
      "Requirement already satisfied: pyrect in c:\\users\\tarun katihar\\appdata\\roaming\\python\\python39\\site-packages (from pygetwindow>=0.0.5->pyautogui->pywhatkit) (0.2.0)\n",
      "Requirement already satisfied: soupsieve>1.2 in c:\\users\\tarun katihar\\appdata\\roaming\\python\\python39\\site-packages (from beautifulsoup4->wikipedia->pywhatkit) (2.3.2.post1)\n",
      "Requirement already satisfied: pyperclip in c:\\users\\tarun katihar\\appdata\\roaming\\python\\python39\\site-packages (from mouseinfo->pyautogui->pywhatkit) (1.8.2)\n"
     ]
    },
    {
     "name": "stderr",
     "output_type": "stream",
     "text": [
      "WARNING: You are using pip version 22.0.4; however, version 22.1.2 is available.\n",
      "You should consider upgrading via the 'C:\\Program Files\\Python39\\python.exe -m pip install --upgrade pip' command.\n"
     ]
    }
   ],
   "source": [
    "!pip install pywhatkit"
   ]
  },
  {
   "cell_type": "code",
   "execution_count": null,
   "id": "a683cce5",
   "metadata": {},
   "outputs": [],
   "source": [
    "import pywhatkit as pwt\n",
    "pwt.text_to_handwriting(\"My name is swagata\", \"C:\\\\Users\\\\Tarun Katihar\\\\Desktop\\\\Text_to_Handwriting_Convertor\\\\handwrittenoutput.png\",[10,10,10])"
   ]
  },
  {
   "cell_type": "code",
   "execution_count": null,
   "id": "80882591",
   "metadata": {},
   "outputs": [],
   "source": []
  }
 ],
 "metadata": {
  "kernelspec": {
   "display_name": "Python 3 (ipykernel)",
   "language": "python",
   "name": "python3"
  },
  "language_info": {
   "codemirror_mode": {
    "name": "ipython",
    "version": 3
   },
   "file_extension": ".py",
   "mimetype": "text/x-python",
   "name": "python",
   "nbconvert_exporter": "python",
   "pygments_lexer": "ipython3",
   "version": "3.9.12"
  }
 },
 "nbformat": 4,
 "nbformat_minor": 5
}
